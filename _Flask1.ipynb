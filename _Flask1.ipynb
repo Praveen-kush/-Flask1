{
 "cells": [
  {
   "cell_type": "markdown",
   "id": "3e83f386",
   "metadata": {},
   "source": [
    "# Q1. What is Flask Framework? What are the advantages of Flask Framework?"
   ]
  },
  {
   "cell_type": "markdown",
   "id": "c97a0f01",
   "metadata": {},
   "source": [
    "# Ans:"
   ]
  },
  {
   "cell_type": "markdown",
   "id": "d9916b49",
   "metadata": {},
   "source": [
    "Flask Framework:\n",
    "\n",
    "Flask is a lightweight and micro web framework written in Python. It is designed to be simple and easy to use, providing the essentials for building web applications without imposing too many constraints. Flask is often referred to as a \"micro\" framework because it does not include certain features, like form validation or database abstraction, which are left to extensions or libraries. Despite its simplicity, Flask is highly extensible, allowing developers to add the components they need."
   ]
  },
  {
   "cell_type": "markdown",
   "id": "2c8d4d64",
   "metadata": {},
   "source": [
    "Advantages of Flask Framework:\n",
    "\n",
    "Simplicity: Flask follows the principle of keeping things simple and easy to understand. This makes it an excellent choice for beginners and for projects where complexity is not required.\n",
    "\n",
    "Flexibility: Flask doesn't impose a rigid structure, allowing developers to choose their preferred tools and libraries for specific tasks. This flexibility is beneficial for projects with unique requirements.\n",
    "\n",
    "Extensibility: Flask's modular design allows for easy integration of extensions to add features as needed. This helps keep the core framework lightweight while enabling developers to extend functionality.\n",
    "\n",
    "Jinja2 Templates: The use of Jinja2 templating engine makes it easy to create dynamic HTML pages, promoting the separation of concerns between the application logic and presentation.\n",
    "\n",
    "Built-in Development Server: Flask includes a built-in development server, making it straightforward to start building and testing applications without additional setup.\n",
    "\n",
    "Community and Documentation: Flask has a vibrant community and comprehensive documentation, making it easy for developers to find help and resources when building applications.\n",
    "\n",
    "RESTful Capabilities: Flask is well-suited for building RESTful APIs, allowing developers to create scalable and maintainable backend services.\n",
    "\n",
    "Python Integration: As Flask is written in Python, it seamlessly integrates with the extensive Python ecosystem, allowing developers to leverage existing Python libraries and tools."
   ]
  },
  {
   "cell_type": "markdown",
   "id": "62820e2f",
   "metadata": {},
   "source": [
    "# Q2. Create a simple Flask application to display ‘Hello World!!’. Attach the screenshot of the output in Jupyter Notebook."
   ]
  },
  {
   "cell_type": "markdown",
   "id": "4cac66be",
   "metadata": {},
   "source": [
    "# Ans:"
   ]
  },
  {
   "cell_type": "code",
   "execution_count": null,
   "id": "92557398",
   "metadata": {},
   "outputs": [
    {
     "name": "stdout",
     "output_type": "stream",
     "text": [
      " * Serving Flask app \"__main__\" (lazy loading)\n",
      " * Environment: production\n",
      "\u001b[31m   WARNING: This is a development server. Do not use it in a production deployment.\u001b[0m\n",
      "\u001b[2m   Use a production WSGI server instead.\u001b[0m\n",
      " * Debug mode: off\n"
     ]
    },
    {
     "name": "stderr",
     "output_type": "stream",
     "text": [
      " * Running on all addresses.\n",
      "   WARNING: This is a development server. Do not use it in a production deployment.\n",
      " * Running on http://172.16.227.76:5000/ (Press CTRL+C to quit)\n",
      "172.16.227.76 - - [14/Nov/2023 01:56:59] \"GET / HTTP/1.1\" 200 -\n",
      "172.16.227.76 - - [14/Nov/2023 01:56:59] \"GET /favicon.ico HTTP/1.1\" 404 -\n",
      "172.16.227.76 - - [14/Nov/2023 01:57:07] \"GET / HTTP/1.1\" 200 -\n"
     ]
    }
   ],
   "source": [
    "from flask import Flask\n",
    "\n",
    "app = Flask(__name__)\n",
    "\n",
    "@app.route(\"/\")\n",
    "def hello_world():\n",
    "    return \"<h1>Hello, World!</h1>\"\n",
    "\n",
    "if __name__==\"__main__\":\n",
    "    app.run(host=\"0.0.0.0\")"
   ]
  },
  {
   "cell_type": "code",
   "execution_count": 1,
   "id": "bdb3d851",
   "metadata": {},
   "outputs": [
    {
     "name": "stdout",
     "output_type": "stream",
     "text": [
      "Defaulting to user installation because normal site-packages is not writeable\n",
      "Requirement already satisfied: flask in c:\\programdata\\anaconda3\\lib\\site-packages (1.1.2)\n",
      "Requirement already satisfied: Werkzeug>=0.15 in c:\\programdata\\anaconda3\\lib\\site-packages (from flask) (2.0.3)\n",
      "Requirement already satisfied: itsdangerous>=0.24 in c:\\programdata\\anaconda3\\lib\\site-packages (from flask) (2.0.1)\n",
      "Requirement already satisfied: click>=5.1 in c:\\programdata\\anaconda3\\lib\\site-packages (from flask) (8.0.4)\n",
      "Requirement already satisfied: Jinja2>=2.10.1 in c:\\programdata\\anaconda3\\lib\\site-packages (from flask) (2.11.3)\n",
      "Requirement already satisfied: colorama in c:\\programdata\\anaconda3\\lib\\site-packages (from click>=5.1->flask) (0.4.5)\n",
      "Requirement already satisfied: MarkupSafe>=0.23 in c:\\programdata\\anaconda3\\lib\\site-packages (from Jinja2>=2.10.1->flask) (2.0.1)\n",
      "Note: you may need to restart the kernel to use updated packages.\n"
     ]
    }
   ],
   "source": [
    "pip install flask"
   ]
  },
  {
   "cell_type": "markdown",
   "id": "785250ab",
   "metadata": {},
   "source": [
    "![](Screenshot (51))\n"
   ]
  },
  {
   "cell_type": "markdown",
   "id": "9d6fc0ee",
   "metadata": {},
   "source": [
    "![](Screenshot (51))"
   ]
  },
  {
   "cell_type": "markdown",
   "id": "563238e1",
   "metadata": {},
   "source": [
    "![](Screenshot (51))"
   ]
  },
  {
   "cell_type": "markdown",
   "id": "76f2955a",
   "metadata": {},
   "source": [
    "![](http://localhost:8888/view/Pictures/Screenshots/Screenshot%20(51).png)"
   ]
  },
  {
   "cell_type": "markdown",
   "id": "45b46c9f",
   "metadata": {},
   "source": [
    "![hello Image](Downloads/hello.jpg)\n"
   ]
  },
  {
   "cell_type": "markdown",
   "id": "ad19f166",
   "metadata": {},
   "source": [
    "# Q3. What is App routing in Flask? Why do we use app routes?"
   ]
  },
  {
   "cell_type": "markdown",
   "id": "a5580f63",
   "metadata": {},
   "source": [
    "# Ans:"
   ]
  },
  {
   "cell_type": "markdown",
   "id": "46f9b8a5",
   "metadata": {},
   "source": [
    "In Flask, app routing refers to the process of mapping URLs (Uniform Resource Locators) to specific functions within a web application. It involves defining routes that the Flask application will recognize and associate with particular functionality or views.\n",
    "\n",
    "App routing in Flask is primarily facilitated by decorators, specifically the @app.route() decorator, which allows developers to define routes easily."
   ]
  },
  {
   "cell_type": "markdown",
   "id": "5fbffc59",
   "metadata": {},
   "source": [
    "URL Mapping: App routes allow developers to define how different URLs or routes in a web application correspond to different functionalities or views. This enables building a logical structure for handling different parts of the application.\n",
    "\n",
    "Modularity: Using app routes promotes a modular structure in the Flask application. Each route and its associated function can be organized separately, aiding in code readability and maintainability.\n",
    "\n",
    "Request Handling: App routes determine how the Flask application handles various HTTP requests (e.g., GET, POST, PUT, DELETE) made to specific URLs. For instance, a GET request to /about might display information about the website or organization.\n",
    "\n",
    "Clear Organization: When working on larger applications with multiple routes and functionalities, using routes helps organize the codebase efficiently. Each route handles specific tasks or displays distinct content.\n",
    "\n",
    "RESTful API Development: For building RESTful APIs, app routes are essential as they define the endpoints and associated functions that correspond to various API operations (e.g., GET, POST, PUT, DELETE)."
   ]
  },
  {
   "cell_type": "markdown",
   "id": "f0f82cc1",
   "metadata": {},
   "source": [
    "# Q4. Create a “/welcome” route to display the welcome message “Welcome to ABC Corporation” and a “/” route to show the following details:Company Name: ABC Corporation,Location: India,Contact Detail: 999-999-9999,Attach the screenshot of the output in Jupyter Notebook."
   ]
  },
  {
   "cell_type": "markdown",
   "id": "7343c903",
   "metadata": {},
   "source": [
    "# Ans:"
   ]
  },
  {
   "cell_type": "code",
   "execution_count": null,
   "id": "48d15cf6",
   "metadata": {},
   "outputs": [
    {
     "name": "stdout",
     "output_type": "stream",
     "text": [
      " * Serving Flask app \"__main__\" (lazy loading)\n",
      " * Environment: production\n",
      "\u001b[31m   WARNING: This is a development server. Do not use it in a production deployment.\u001b[0m\n",
      "\u001b[2m   Use a production WSGI server instead.\u001b[0m\n",
      " * Debug mode: off\n"
     ]
    },
    {
     "name": "stderr",
     "output_type": "stream",
     "text": [
      " * Running on all addresses.\n",
      "   WARNING: This is a development server. Do not use it in a production deployment.\n",
      " * Running on http://172.16.227.76:5000/ (Press CTRL+C to quit)\n",
      "172.16.227.76 - - [14/Nov/2023 02:48:31] \"GET / HTTP/1.1\" 200 -\n"
     ]
    }
   ],
   "source": [
    "from flask import Flask\n",
    "\n",
    "app = Flask(__name__)\n",
    "\n",
    "@app.route('/welcome')\n",
    "def welcome():\n",
    "    return 'Welcome to ABC Corporation'\n",
    "\n",
    "@app.route('/')\n",
    "def details():\n",
    "    return '''\n",
    "    <h1>Company Name: ABC Corporation</h1>\n",
    "    <p>Location: India</p>\n",
    "    <p>Contact Detail: 999-999-9999</p>\n",
    "    '''\n",
    "\n",
    "if __name__ == '__main__':\n",
    "    app.run(host=\"0.0.0.0\")\n",
    "    app.run(debug=True)\n"
   ]
  },
  {
   "cell_type": "markdown",
   "id": "55bb3f2d",
   "metadata": {},
   "source": [
    "![h2 Image](Downloads/h2.jpg)\n"
   ]
  },
  {
   "cell_type": "markdown",
   "id": "a75e449e",
   "metadata": {},
   "source": [
    "# Q5. What function is used in Flask for URL Building? Write a Python code to demonstrate the working of the url_for() function."
   ]
  },
  {
   "cell_type": "markdown",
   "id": "0bd2a058",
   "metadata": {},
   "source": [
    "# Ans:"
   ]
  },
  {
   "cell_type": "markdown",
   "id": "4a3ae24f",
   "metadata": {},
   "source": [
    "In Flask, the url_for() function is used for URL building. It generates a URL for a specific endpoint, allowing you to avoid hardcoding URLs in your templates or code, making your application more maintainable and flexible."
   ]
  },
  {
   "cell_type": "markdown",
   "id": "149376d1",
   "metadata": {},
   "source": [
    "# Demonstrating the url_for() function:"
   ]
  },
  {
   "cell_type": "code",
   "execution_count": null,
   "id": "fbd90aeb",
   "metadata": {},
   "outputs": [
    {
     "name": "stdout",
     "output_type": "stream",
     "text": [
      " * Serving Flask app \"__main__\" (lazy loading)\n",
      " * Environment: production\n",
      "\u001b[31m   WARNING: This is a development server. Do not use it in a production deployment.\u001b[0m\n",
      "\u001b[2m   Use a production WSGI server instead.\u001b[0m\n",
      " * Debug mode: off\n"
     ]
    },
    {
     "name": "stderr",
     "output_type": "stream",
     "text": [
      " * Running on all addresses.\n",
      "   WARNING: This is a development server. Do not use it in a production deployment.\n",
      " * Running on http://172.16.227.76:5000/ (Press CTRL+C to quit)\n",
      "172.16.227.76 - - [14/Nov/2023 03:04:36] \"GET / HTTP/1.1\" 200 -\n"
     ]
    }
   ],
   "source": [
    "from flask import Flask, url_for\n",
    "\n",
    "app = Flask(__name__)\n",
    "\n",
    "@app.route('/welcome')\n",
    "def welcome():\n",
    "    return 'Welcome to ABC Corporation'\n",
    "\n",
    "@app.route('/')\n",
    "def details():\n",
    "    return '''\n",
    "    <h1>Company Name: TATA Corporation</h1>\n",
    "    <p>Location: India</p>\n",
    "    <p>Contact Detail: 7309647468</p>\n",
    "    '''\n",
    "\n",
    "if __name__ == '__main__':\n",
    "    \n",
    "    with app.test_request_context():\n",
    "        app.run(host=\"0.0.0.0\")\n",
    "        print(url_for('welcome'))  \n",
    "        print(url_for('details'))  \n"
   ]
  },
  {
   "cell_type": "markdown",
   "id": "89e4cbf9",
   "metadata": {},
   "source": [
    "The url_for() function generates URLs for the specified view functions welcome() and details().\n",
    "Inside the with app.test_request_context() block, which is used to simulate a request context, url_for() is called with the names of the view functions as arguments.\n",
    "The print() statements output the generated URLs for the respective view functions."
   ]
  },
  {
   "cell_type": "markdown",
   "id": "e2892575",
   "metadata": {},
   "source": [
    "![h3 Image](Downloads/h3.jpg)\n"
   ]
  },
  {
   "cell_type": "code",
   "execution_count": null,
   "id": "31bc7606",
   "metadata": {},
   "outputs": [],
   "source": []
  }
 ],
 "metadata": {
  "kernelspec": {
   "display_name": "Python 3 (ipykernel)",
   "language": "python",
   "name": "python3"
  },
  "language_info": {
   "codemirror_mode": {
    "name": "ipython",
    "version": 3
   },
   "file_extension": ".py",
   "mimetype": "text/x-python",
   "name": "python",
   "nbconvert_exporter": "python",
   "pygments_lexer": "ipython3",
   "version": "3.9.13"
  }
 },
 "nbformat": 4,
 "nbformat_minor": 5
}
